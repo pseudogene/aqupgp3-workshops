{
 "cells": [
  {
   "cell_type": "markdown",
   "metadata": {},
   "source": [
    "## Install package libraries"
   ]
  },
  {
   "cell_type": "code",
   "execution_count": null,
   "metadata": {},
   "outputs": [],
   "source": [
    "if (!requireNamespace(\"BiocManager\"))\n",
    "    install.packages(\"BiocManager\")\n",
    "BiocManager::install(\"SNPassoc\")\n",
    "\n",
    "install.packages(\"ape\")\n",
    "install.packages(\"adegenet\")\n",
    "install.packages(\"poppr\")\n",
    "install.packages(\"vcfR\")\n",
    "install.packages(\"RColorBrewer\")\n",
    "install.packages(\"tidyr\")\n",
    "install.packages(\"ggplot2\")\n",
    "install.packages(\"RWeka\")\n",
    "install.packages(\"caret\")"
   ]
  },
  {
   "cell_type": "markdown",
   "metadata": {},
   "source": [
    " * `ape` - Analyses of Phylogenetics and Evolution (manipulating phylogenetic trees and computing distances from DNA sequences)\n",
    " * `adegenet` - Exploratory Analysis of Genetic and Genomic Data\n",
    " * `poppr` - Genetic Analysis of Populations with Mixed Reproduction\n",
    " * `vcfR` - Manipulate and Visualize VCF Data\n",
    " * `SNPassoc` - Package to perform whole genome association studies\n",
    " * `tidyr` - Tools to help to create tidy data\n",
    " * `ggplot2` - Create Elegant Data Visualisations Using the Grammar of Graphics\n",
    " * `RColorBrewer` - ColorBrewer Palettes\n",
    " * `RWeka` - A collection of machine learning algorithms for data mining tasks\n",
    " * `caret` - Classification and Regression Training"
   ]
  },
  {
   "cell_type": "markdown",
   "metadata": {},
   "source": [
    "## Load package library"
   ]
  },
  {
   "cell_type": "code",
   "execution_count": null,
   "metadata": {
    "scrolled": true
   },
   "outputs": [],
   "source": [
    "library(vcfR)\n",
    "library(ape)\n",
    "library(adegenet)\n",
    "library(SNPassoc)\n",
    "library(poppr)\n",
    "library(RColorBrewer)\n",
    "library(tidyr)\n",
    "library(ggplot2)\n",
    "library(RWeka)\n",
    "library(caret)\n",
    "\n",
    "options(repr.plot.width=16, repr.plot.height=8)"
   ]
  },
  {
   "cell_type": "markdown",
   "metadata": {},
   "source": [
    "## Load package datasets\n",
    "\n",
    "Download and copy in your current folder:\n",
    " * [fish.snps.vcf.gz](https://github.com/pseudogene/aqupgp3-workshops/raw/master/fish.snps.vcf.gz) and [fish.pop.tsv](https://github.com/pseudogene/aqupgp3-workshops/raw/master/fish.pop.tsv).\n",
    " * [families.snps.vcf.gz](https://github.com/pseudogene/aqupgp3-workshops/raw/master/families.snps.vcf.gz) and [families.pop.tsv](https://github.com/pseudogene/aqupgp3-workshops/raw/master/families.pop.tsv).\n",
    " * [GBS.markers.tsv](https://github.com/pseudogene/aqupgp3-workshops/raw/master/GBS.markers.tsv) and [KASP.results.tsv](https://github.com/pseudogene/aqupgp3-workshops/raw/master/KASP.results.tsv)."
   ]
  },
  {
   "cell_type": "code",
   "execution_count": null,
   "metadata": {},
   "outputs": [],
   "source": [
    "fish_data <- read.vcfR(\"fish.snps.vcf.gz\")\n",
    "fish_pop <- read.delim(\"fish.pop.tsv\", header=TRUE,  sep=\"\\t\")"
   ]
  }
 ],
 "metadata": {
  "kernelspec": {
   "display_name": "R",
   "language": "R",
   "name": "ir"
  },
  "language_info": {
   "codemirror_mode": "r",
   "file_extension": ".r",
   "mimetype": "text/x-r-source",
   "name": "R",
   "pygments_lexer": "r",
   "version": "4.0.3"
  }
 },
 "nbformat": 4,
 "nbformat_minor": 4
}
