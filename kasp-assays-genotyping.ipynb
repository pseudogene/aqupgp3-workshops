{
 "cells": [
  {
   "cell_type": "markdown",
   "metadata": {},
   "source": [
    "# KASP assays genotyping"
   ]
  },
  {
   "cell_type": "markdown",
   "metadata": {},
   "source": [
    "### Load the libraries"
   ]
  },
  {
   "cell_type": "code",
   "execution_count": null,
   "metadata": {},
   "outputs": [],
   "source": [
    "library(ape)\n",
    "library(adegenet)\n",
    "library(ggplot2)\n",
    "library(RWeka)\n",
    "library(caret)"
   ]
  },
  {
   "cell_type": "markdown",
   "metadata": {},
   "source": [
    "### Load the QTL results\n",
    "\n",
    "Top 20 markers assosciated with phenotypic sex"
   ]
  },
  {
   "cell_type": "code",
   "execution_count": null,
   "metadata": {},
   "outputs": [],
   "source": [
    "data <- read.delim('GBS.markers.tsv', header=TRUE, row.names=\"Sample.ID\")\n",
    "head(data)"
   ]
  },
  {
   "cell_type": "markdown",
   "metadata": {},
   "source": [
    "### Load the KASP results\n",
    "\n",
    "503 individual tested for the 20 markers"
   ]
  },
  {
   "cell_type": "code",
   "execution_count": null,
   "metadata": {},
   "outputs": [],
   "source": [
    "kasp <- read.delim('KASP.results.tsv', header=TRUE, row.names=\"Sample.ID\")\n",
    "kasp <- kasp[-1]\n",
    "head(kasp)"
   ]
  },
  {
   "cell_type": "markdown",
   "metadata": {},
   "source": [
    "### Convert the QTL result to a genind object (again)"
   ]
  },
  {
   "cell_type": "code",
   "execution_count": null,
   "metadata": {},
   "outputs": [],
   "source": [
    "haplo <- data[-1] # Remove actual Sex\n",
    "row.names(haplo) <- row.names(data) # Name the row\n",
    "head(haplo)"
   ]
  },
  {
   "cell_type": "code",
   "execution_count": null,
   "metadata": {},
   "outputs": [],
   "source": [
    "obj_pop <- df2genind(haplo, ploidy=2, sep='/',ncode=1);"
   ]
  },
  {
   "cell_type": "markdown",
   "metadata": {},
   "source": [
    "## Predict sex"
   ]
  },
  {
   "cell_type": "markdown",
   "metadata": {},
   "source": [
    "### Clustering the result by PCA\n",
    "\n",
    "These functions implement the clustering procedure used in Principal Components Analysis"
   ]
  },
  {
   "cell_type": "code",
   "execution_count": null,
   "metadata": {},
   "outputs": [],
   "source": [
    "cluster <- find.clusters(obj_pop, n.pca=2000, n.clust=2, n.iter=1e6);"
   ]
  },
  {
   "cell_type": "code",
   "execution_count": null,
   "metadata": {},
   "outputs": [],
   "source": [
    "cluster"
   ]
  },
  {
   "cell_type": "markdown",
   "metadata": {},
   "source": [
    "The variable `cluster$grp` has the clustering prediction results: 2 ~ female, 1 ~ male."
   ]
  },
  {
   "cell_type": "code",
   "execution_count": null,
   "metadata": {},
   "outputs": [],
   "source": [
    "data2 <- data\n",
    "data2$predicted <- cluster$grp\n",
    "head(data2)"
   ]
  },
  {
   "cell_type": "markdown",
   "metadata": {},
   "source": [
    "Try to plot the Actual phenotypic sex _versus_ the predictions."
   ]
  },
  {
   "cell_type": "code",
   "execution_count": null,
   "metadata": {},
   "outputs": [],
   "source": [
    "ggplot(data2, aes(Sex, predicted)) + geom_jitter(width = 0.1, height=0.1, aes(colour=factor(Sex)), alpha=0.6, size=2) + theme_bw()"
   ]
  },
  {
   "cell_type": "markdown",
   "metadata": {},
   "source": [
    "### Use a Machine Learning approach: C4.5"
   ]
  },
  {
   "cell_type": "markdown",
   "metadata": {},
   "source": [
    "[C4.5](https://en.wikipedia.org/wiki/C4.5_algorithm) is an algorithm used to generate a \"decision tree\". [Read more](https://www.quora.com/What-is-the-C4-5-algorithm-and-how-does-it-work).\n",
    "\n",
    "The recommended approach (if you have enough sample) is to split your learning set (true data, i.e. QTL results) into a training set and a test set to evaluate the quaity of your prediction... "
   ]
  },
  {
   "cell_type": "code",
   "execution_count": null,
   "metadata": {},
   "outputs": [],
   "source": [
    "train_rows <- createDataPartition(data$Sex, list=FALSE)\n",
    "train_set <- data[train_rows, ]\n",
    "test_set <- data[-train_rows, ]"
   ]
  },
  {
   "cell_type": "code",
   "execution_count": null,
   "metadata": {},
   "outputs": [],
   "source": [
    "head(train_set)"
   ]
  },
  {
   "cell_type": "code",
   "execution_count": null,
   "metadata": {},
   "outputs": [],
   "source": [
    "head(test_set)"
   ]
  },
  {
   "cell_type": "markdown",
   "metadata": {},
   "source": [
    "Then the C4.5 algorithm is trained (C4.5 is also called J48...) "
   ]
  },
  {
   "cell_type": "code",
   "execution_count": null,
   "metadata": {},
   "outputs": [],
   "source": [
    "fit.c45 <- train(Sex ~ ., data=train_set, method='J48')\n",
    "fit.c45"
   ]
  },
  {
   "cell_type": "markdown",
   "metadata": {},
   "source": [
    "The model was optimised 25 times (Bootstrapped) to identidy the parameters that maximise **Accuracy**.\n",
    "It's time to a real test set to evaluate \"real\" accuracy..."
   ]
  },
  {
   "cell_type": "code",
   "execution_count": null,
   "metadata": {},
   "outputs": [],
   "source": [
    "pred <- predict(fit.c45, newdata=test_set)\n",
    "pred"
   ]
  },
  {
   "cell_type": "markdown",
   "metadata": {},
   "source": [
    "Unfortinatly we don't have enough data to run properly a test, however because we have a \"real\" training: QTL data and a real set to apply the model (KASP) we can ignore this step, for now..."
   ]
  },
  {
   "cell_type": "code",
   "execution_count": null,
   "metadata": {},
   "outputs": [],
   "source": [
    "fit.c45 <- train(Sex ~ ., data=data, method='J48')\n",
    "pred <- predict(fit.c45, newdata=data)\n",
    "pred"
   ]
  },
  {
   "cell_type": "code",
   "execution_count": null,
   "metadata": {},
   "outputs": [],
   "source": [
    "plot(pred)"
   ]
  },
  {
   "cell_type": "markdown",
   "metadata": {},
   "source": [
    "The model is actually using this decition tree to make a decision:"
   ]
  },
  {
   "cell_type": "code",
   "execution_count": null,
   "metadata": {},
   "outputs": [],
   "source": [
    "fit.c45$finalModel"
   ]
  },
  {
   "cell_type": "markdown",
   "metadata": {},
   "source": [
    "So you accurate are those results?"
   ]
  },
  {
   "cell_type": "markdown",
   "metadata": {},
   "source": [
    "We can add those prediction to the clustering table"
   ]
  },
  {
   "cell_type": "code",
   "execution_count": null,
   "metadata": {},
   "outputs": [],
   "source": [
    "data2$predicted2 <- pred\n",
    "head(data2)"
   ]
  },
  {
   "cell_type": "markdown",
   "metadata": {},
   "source": [
    "Then plot the results: Actual phenotypic sex _versus_ the C4.5 predictions."
   ]
  },
  {
   "cell_type": "code",
   "execution_count": null,
   "metadata": {},
   "outputs": [],
   "source": [
    "ggplot(data2, aes(Sex, predicted2)) + geom_jitter(width = 0.1, height=0.1, aes(colour=factor(Sex)), alpha=0.6, size=2) + theme_bw()"
   ]
  },
  {
   "cell_type": "markdown",
   "metadata": {},
   "source": [
    "Clustering prediction _versus_ the C4.5 predictions."
   ]
  },
  {
   "cell_type": "code",
   "execution_count": null,
   "metadata": {},
   "outputs": [],
   "source": [
    "ggplot(data2, aes(predicted2, predicted)) + geom_jitter(width = 0.1, height=0.1, aes(colour=factor(Sex)), alpha=0.6, size=2) + theme_bw()"
   ]
  },
  {
   "cell_type": "markdown",
   "metadata": {},
   "source": [
    "## Application"
   ]
  },
  {
   "cell_type": "markdown",
   "metadata": {},
   "source": [
    "Now we have a \"prefered\" approach can you predict the sex of our 503 new samples?"
   ]
  },
  {
   "cell_type": "code",
   "execution_count": null,
   "metadata": {},
   "outputs": [],
   "source": [
    "head(kasp)"
   ]
  },
  {
   "cell_type": "code",
   "execution_count": null,
   "metadata": {},
   "outputs": [],
   "source": [
    "pred <- predict(fit.c45, newdata=kasp)\n",
    "pred"
   ]
  },
  {
   "cell_type": "code",
   "execution_count": null,
   "metadata": {},
   "outputs": [],
   "source": [
    "kasp <- read.delim('KASP.results.tsv', header=TRUE, row.names=\"Sample.ID\")\n",
    "#kasp <- kasp[-1]\n",
    "\n",
    "kasp$predicted <- pred\n",
    "ggplot(kasp, aes(Sex, predicted)) + geom_jitter(width = 0.1, height=0.1, aes(colour=factor(Sex)), alpha=0.6, size=2) + theme_bw()"
   ]
  },
  {
   "cell_type": "code",
   "execution_count": null,
   "metadata": {},
   "outputs": [],
   "source": [
    "kasp[which(kasp$Sex != kasp$predicted),]"
   ]
  },
  {
   "cell_type": "markdown",
   "metadata": {},
   "source": [
    "Conclusion?"
   ]
  },
  {
   "cell_type": "code",
   "execution_count": null,
   "metadata": {},
   "outputs": [],
   "source": []
  }
 ],
 "metadata": {
  "kernelspec": {
   "display_name": "R",
   "language": "R",
   "name": "ir"
  },
  "language_info": {
   "codemirror_mode": "r",
   "file_extension": ".r",
   "mimetype": "text/x-r-source",
   "name": "R",
   "pygments_lexer": "r",
   "version": "4.0.3"
  }
 },
 "nbformat": 4,
 "nbformat_minor": 4
}
