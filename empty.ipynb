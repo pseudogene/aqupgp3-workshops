{
 "cells": [
  {
   "cell_type": "markdown",
   "metadata": {},
   "source": [
    "## Load package library"
   ]
  },
  {
   "cell_type": "code",
   "execution_count": null,
   "metadata": {
    "scrolled": true
   },
   "outputs": [],
   "source": [
    "library(vcfR)\n",
    "library(ape)\n",
    "library(adegenet)\n",
    "library(SNPassoc)\n",
    "library(poppr)\n",
    "library(RColorBrewer)\n",
    "library(tidyr)\n",
    "library(ggplot2)\n",
    "library(RWeka)\n",
    "library(caret)\n",
    "\n",
    "options(repr.plot.width=16, repr.plot.height=8)"
   ]
  },
  {
   "cell_type": "markdown",
   "metadata": {},
   "source": [
    "## Load package datasets"
   ]
  },
  {
   "cell_type": "code",
   "execution_count": null,
   "metadata": {},
   "outputs": [],
   "source": [
    "fish_data <- read.vcfR(\"fish.snps.vcf.gz\")\n",
    "fish_pop <- read.delim(\"fish.pop.tsv\", header=TRUE,  sep=\"\\t\")"
   ]
  },
  {
   "cell_type": "code",
   "execution_count": null,
   "metadata": {},
   "outputs": [],
   "source": []
  }
 ],
 "metadata": {
  "kernelspec": {
   "display_name": "R",
   "language": "R",
   "name": "ir"
  },
  "language_info": {
   "codemirror_mode": "r",
   "file_extension": ".r",
   "mimetype": "text/x-r-source",
   "name": "R",
   "pygments_lexer": "r",
   "version": "4.0.3"
  }
 },
 "nbformat": 4,
 "nbformat_minor": 4
}
