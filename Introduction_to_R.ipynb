{
 "cells": [
  {
   "cell_type": "markdown",
   "metadata": {},
   "source": [
    "# Introduction to R\n",
    "\n",
    "A more general goal is to get you comfortable with [R](https://cloud.r-project.org/) so that it seems less scary and mystifying than it perhaps does now. Note that this is by no means a complete or thorough introduction to R! It’s just enough to get you started.\n",
    "\n",
    "This workshop is relatively informal, example-oriented, and hands-on. We won’t spend much time examining language features in detail. Instead we will work through an example, and learn some things about the R along the way.\n",
    "\n",
    "As an example project we will analyze the popularity of baby names in the US from 1880 through 2008. Among the questions we will use R to answer are:\n",
    "\n",
    " * In which year did your name achieve peak popularity?\n",
    " * How many children were born each year?\n",
    " * What are the most popular names overall? For girls? For Boys?"
   ]
  },
  {
   "cell_type": "markdown",
   "metadata": {},
   "source": [
    "## Exercise 0\n",
    "\n",
    "The purpose of this exercise is to give you an opportunity to explore the interface provided by R. You may not know how to do these things; that’s fine! This is an opportunity to figure it out."
   ]
  },
  {
   "cell_type": "markdown",
   "metadata": {},
   "source": [
    "Try to get R to add 2 plus 2"
   ]
  },
  {
   "cell_type": "code",
   "execution_count": null,
   "metadata": {},
   "outputs": [],
   "source": [
    "2 + 2"
   ]
  },
  {
   "cell_type": "code",
   "execution_count": null,
   "metadata": {},
   "outputs": [],
   "source": [
    "sum(2, 2)"
   ]
  },
  {
   "cell_type": "markdown",
   "metadata": {},
   "source": [
    "Square root of 10"
   ]
  },
  {
   "cell_type": "code",
   "execution_count": null,
   "metadata": {},
   "outputs": [],
   "source": [
    "10^(1/2)"
   ]
  },
  {
   "cell_type": "code",
   "execution_count": null,
   "metadata": {},
   "outputs": [],
   "source": [
    "sqrt(10)"
   ]
  },
  {
   "cell_type": "markdown",
   "metadata": {},
   "source": [
    "## R basics"
   ]
  },
  {
   "cell_type": "markdown",
   "metadata": {},
   "source": [
    "### Function calls\n",
    "\n",
    "The general form for calling R functions is\n",
    "\n",
    "```r\n",
    "FunctionName(arg.1 = value.1, arg.2 = value.2, ..., arg.n - value.n)\n",
    "```\n",
    "\n",
    "Arguments can be matched by name; unnamed arguments will be matched by position."
   ]
  },
  {
   "cell_type": "markdown",
   "metadata": {},
   "source": [
    "### Assignment\n",
    "\n",
    "Values can be assigned names and used in subsequent operations\n",
    "\n",
    " * The `<-` operator (less than followed by a dash) is used to save values\n",
    " * The name on the left gets the value on the right.\n"
   ]
  },
  {
   "cell_type": "code",
   "execution_count": null,
   "metadata": {},
   "outputs": [],
   "source": [
    "sqrt(10) # calculate square root of 10; result is not stored anywhere"
   ]
  },
  {
   "cell_type": "code",
   "execution_count": null,
   "metadata": {},
   "outputs": [],
   "source": [
    "x <- sqrt(10) # assign result to a variable named x"
   ]
  },
  {
   "cell_type": "code",
   "execution_count": null,
   "metadata": {},
   "outputs": [],
   "source": [
    "x"
   ]
  },
  {
   "cell_type": "markdown",
   "metadata": {},
   "source": [
    "Names should start with a letter, and contain only letters, numbers, underscores, and periods."
   ]
  },
  {
   "cell_type": "markdown",
   "metadata": {},
   "source": [
    "### Getting data into R\n",
    "\n",
    "R has data reading functionality built-in – see e.g., `?read.table`. However, faster and more robust tools are available, and so to make things easier on ourselves we will use a contributed package called `readr` instead. This requires that we learn a little bit about packages in R."
   ]
  },
  {
   "cell_type": "markdown",
   "metadata": {},
   "source": [
    "#### Installing and using R packages\n",
    "\n",
    "A large number of contributed packages are available. If you are looking for a package for a specific task, https://cran.r-project.org/web/views/ and https://r-pkg.org are good places to start.\n",
    "\n",
    "You can install a package in R using the `install.packages()` function. Once a package is installed you may use the `library` function to attach it so that it can be used."
   ]
  },
  {
   "cell_type": "code",
   "execution_count": null,
   "metadata": {},
   "outputs": [],
   "source": [
    "install.packages('readr')"
   ]
  },
  {
   "cell_type": "code",
   "execution_count": null,
   "metadata": {},
   "outputs": [],
   "source": [
    "library(readr)"
   ]
  },
  {
   "cell_type": "markdown",
   "metadata": {},
   "source": [
    "#### Readers for common file types\n",
    "\n",
    "In order to read data from a file, you have to know what kind of file it is. The table below lists functions that can import data from common plain-text formats.\n",
    "\n",
    "Data Type | Function\n",
    "--- | ---\n",
    "comma separated | `read_csv()`\n",
    "tab separated | `read_delim()`\n",
    "other delimited formats | `read_table()`\n",
    "fixed width | `read_fwf()`"
   ]
  },
  {
   "cell_type": "markdown",
   "metadata": {},
   "source": [
    "### Baby names data\n",
    "\n",
    "The examples in this workshop use baby names data retrieved from https://www.nrscotland.gov.uk/statistics-and-data/statistics/statistics-by-theme/vital-events/names/babies-first-names or https://www.ons.gov.uk/peoplepopulationandcommunity/birthsdeathsandmarriages/livebirths. A cleaned and merged version of these data is available at https://raw.githubusercontent.com/hadley/data-baby-names/master/baby-names.csv."
   ]
  },
  {
   "cell_type": "markdown",
   "metadata": {},
   "source": [
    "## Exercise 1: Reading the baby names data\n",
    "\n",
    "Make sure you have installed the `readr` package and attached it with `library(readr)`.\n",
    "\n",
    "Baby names data are available at `https://raw.githubusercontent.com/hadley/data-baby-names/master/baby-names.csv`.\n",
    "\n",
    " 1. Open the `read_csv` help page to determine how to use it to read in data.\n",
    " 2. Read the baby names data using the `read_csv` function and assign the result with the name `baby.names`.\n"
   ]
  },
  {
   "cell_type": "markdown",
   "metadata": {},
   "source": [
    "## Exercise 1 - solution"
   ]
  },
  {
   "cell_type": "code",
   "execution_count": null,
   "metadata": {},
   "outputs": [],
   "source": [
    "?read_csv"
   ]
  },
  {
   "cell_type": "code",
   "execution_count": null,
   "metadata": {},
   "outputs": [],
   "source": [
    "baby.names <- read_csv('https://raw.githubusercontent.com/hadley/data-baby-names/master/baby-names.csv')"
   ]
  },
  {
   "cell_type": "markdown",
   "metadata": {},
   "source": [
    "## Popularity of your name\n",
    "\n",
    "In this section we will pull out specific names and examine changes in their popularity over time.\n",
    "\n",
    "The `baby.names` object we created in the last exercise is a `data.frame`. There are many other data structures in R, but for now we'll focus on working with `data.frames`, a table!.\n",
    "\n",
    "R has decent data manipulation tools built-in. But to make things easier on ourselves we will use a contributed package called `dplyr` instead."
   ]
  },
  {
   "cell_type": "code",
   "execution_count": null,
   "metadata": {},
   "outputs": [],
   "source": [
    "install.packages('dplyr')"
   ]
  },
  {
   "cell_type": "code",
   "execution_count": null,
   "metadata": {},
   "outputs": [],
   "source": [
    "library(dplyr)"
   ]
  },
  {
   "cell_type": "markdown",
   "metadata": {},
   "source": [
    "## Filtering and arranging data\n",
    "\n",
    "One way to find the year in which your name was the most popular is to filter out just the rows corresponding to your name, and then arrange (sort) by Count.\n",
    "\n",
    "To demonstrate these techniques we’ll try to determine whether “Alex” or “Jim” was more popular in 1992. We start by filtering the data so that we keep only rows where Year is equal to 1992 and Name is either “Alex” or “Mark”."
   ]
  },
  {
   "cell_type": "code",
   "execution_count": null,
   "metadata": {},
   "outputs": [],
   "source": [
    "am <- filter(baby.names, year == 1992 & (name == 'Alex' | name == 'Mark'))"
   ]
  },
  {
   "cell_type": "code",
   "execution_count": null,
   "metadata": {},
   "outputs": [],
   "source": [
    "am"
   ]
  },
  {
   "cell_type": "markdown",
   "metadata": {},
   "source": [
    "These operators may be combined with `&` (and) or `|` (or).\n",
    "\n",
    "In this case it's pretty easy to see that “Mark” is more popular, but to make it even easier we can arrange the data so that the most popular name is listed first."
   ]
  },
  {
   "cell_type": "code",
   "execution_count": null,
   "metadata": {},
   "outputs": [],
   "source": [
    "arrange(am, percent)"
   ]
  },
  {
   "cell_type": "code",
   "execution_count": null,
   "metadata": {},
   "outputs": [],
   "source": [
    "arrange(am, desc(percent))"
   ]
  },
  {
   "cell_type": "markdown",
   "metadata": {},
   "source": [
    "## Other logical operators\n",
    "\n",
    "In the previous example we used `==` to filter rows. Other relational and logical operators are listed below.\n",
    "\n",
    "Operator | Meaning\n",
    "--- | ---\n",
    "== | equal to\n",
    "!= | not equal to\n",
    "> | greater than\n",
    ">= | greater than or equal to\n",
    "< | less than\n",
    "<=  |less than or equal to\n",
    "%in% | contained in\n",
    "\n",
    "These operators may be combined with `&` (and) or `|` (or)."
   ]
  },
  {
   "cell_type": "markdown",
   "metadata": {},
   "source": [
    "## Exercise 2: Peak popularity of your name\n",
    "\n",
    "In this exercise you will discover the year your name reached its maximum popularity.\n",
    "\n",
    " 1. Use filter to extract data for your name (or another name of your choice).\n",
    " 2. Arrange the data you produced in step 1 above by Count. In which year was the name most popular?\n",
    " 3. BONUS (optional): Filter the data to extract only the row containing the most popular boys name in 1999"
   ]
  },
  {
   "cell_type": "markdown",
   "metadata": {},
   "source": [
    "Exercise 2 - solution"
   ]
  },
  {
   "cell_type": "code",
   "execution_count": null,
   "metadata": {},
   "outputs": [],
   "source": [
    "george <- filter(baby.names, name == 'George')"
   ]
  },
  {
   "cell_type": "code",
   "execution_count": null,
   "metadata": {},
   "outputs": [],
   "source": [
    "arrange(george, desc(percent))"
   ]
  },
  {
   "cell_type": "code",
   "execution_count": null,
   "metadata": {},
   "outputs": [],
   "source": [
    "boys.1999 <- filter(baby.names, year == 1999 & sex == 'boy')\n",
    "boys.1999"
   ]
  },
  {
   "cell_type": "code",
   "execution_count": null,
   "metadata": {},
   "outputs": [],
   "source": [
    "filter(boys.1999, percent==max(percent))"
   ]
  },
  {
   "cell_type": "markdown",
   "metadata": {},
   "source": [
    "## Plotting baby name trends over time\n",
    "\n",
    "It can be difficult to spot trends when looking at summary tables. Plotting the data makes it easier to identify interesting patterns.\n",
    "\n",
    "R has decent plotting tools built-in. However, To make things easier on ourselves we will use a package called `ggplot2` instead."
   ]
  },
  {
   "cell_type": "code",
   "execution_count": null,
   "metadata": {},
   "outputs": [],
   "source": [
    "install.packages('ggplot2')"
   ]
  },
  {
   "cell_type": "code",
   "execution_count": null,
   "metadata": {},
   "outputs": [],
   "source": [
    "library(ggplot2)"
   ]
  },
  {
   "cell_type": "markdown",
   "metadata": {},
   "source": [
    "For quick and simple plots we can use the `qplot` function. For example, we can plot the number of babies given the name “Diana” over time like this:"
   ]
  },
  {
   "cell_type": "code",
   "execution_count": null,
   "metadata": {},
   "outputs": [],
   "source": [
    "diana <- filter(baby.names, name == 'Diana')"
   ]
  },
  {
   "cell_type": "code",
   "execution_count": null,
   "metadata": {},
   "outputs": [],
   "source": [
    "qplot(x = year, y = percent, data = diana)"
   ]
  },
  {
   "cell_type": "code",
   "execution_count": null,
   "metadata": {},
   "outputs": [],
   "source": [
    "qplot(x = year, y = percent, color = sex, data = diana)"
   ]
  },
  {
   "cell_type": "markdown",
   "metadata": {},
   "source": [
    "Done!"
   ]
  },
  {
   "cell_type": "markdown",
   "metadata": {},
   "source": [
    "There are 100' of tutorial for R. Try [swirl](https://swirlstats.com/students.html) step-by-step tutoials is you are interested..."
   ]
  }
 ],
 "metadata": {
  "kernelspec": {
   "display_name": "R",
   "language": "R",
   "name": "ir"
  },
  "language_info": {
   "codemirror_mode": "r",
   "file_extension": ".r",
   "mimetype": "text/x-r-source",
   "name": "R",
   "pygments_lexer": "r",
   "version": "4.2.0"
  }
 },
 "nbformat": 4,
 "nbformat_minor": 4
}
