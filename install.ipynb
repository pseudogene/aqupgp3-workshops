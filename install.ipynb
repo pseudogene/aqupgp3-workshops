{
 "cells": [
  {
   "cell_type": "markdown",
   "metadata": {},
   "source": [
    "## Install package libraries"
   ]
  },
  {
   "cell_type": "code",
   "execution_count": null,
   "metadata": {},
   "outputs": [],
   "source": [
    "#If running Google Colab\n",
    "system(\"apt install libfftw3-dev libfftw3-doc\", TRUE)"
   ]
  },
  {
   "cell_type": "code",
   "execution_count": null,
   "metadata": {},
   "outputs": [],
   "source": [
    "install.packages(\"SNPassoc\")\n",
    "install.packages(\"ape\")\n",
    "install.packages(\"poppr\")\n",
    "install.packages(\"vcfR\")\n",
    "install.packages(\"RColorBrewer\")\n",
    "install.packages(\"tidyr\")\n",
    "install.packages(\"ggplot2\")\n",
    "install.packages(\"C50\")\n",
    "install.packages(\"caret\")"
   ]
  },
  {
   "cell_type": "markdown",
   "metadata": {},
   "source": [
    " * `ape` - Analyses of Phylogenetics and Evolution (manipulating phylogenetic trees and computing distances from DNA sequences)\n",
    " * `poppr` - Genetic Analysis of Populations with Mixed Reproduction\n",
    " * `vcfR` - Manipulate and Visualize VCF Data\n",
    " * `SNPassoc` - Package to perform whole genome association studies\n",
    " * `tidyr` - Tools to help to create tidy data\n",
    " * `ggplot2` - Create Elegant Data Visualisations Using the Grammar of Graphics\n",
    " * `RColorBrewer` - ColorBrewer Palettes\n",
    " * `C50` - A collection of machine learning algorithms for data mining tasks\n",
    " * `caret` - Classification and Regression Training"
   ]
  },
  {
   "cell_type": "markdown",
   "metadata": {},
   "source": [
    "## Load package library"
   ]
  },
  {
   "cell_type": "code",
   "execution_count": null,
   "metadata": {
    "scrolled": true
   },
   "outputs": [],
   "source": [
    "library(vcfR)\n",
    "library(ape)\n",
    "library(SNPassoc)\n",
    "library(poppr)\n",
    "library(RColorBrewer)\n",
    "library(tidyr)\n",
    "library(ggplot2)\n",
    "library(C50)\n",
    "library(caret)\n",
    "\n",
    "options(repr.plot.width=16, repr.plot.height=8)"
   ]
  },
  {
   "cell_type": "markdown",
   "metadata": {},
   "source": [
    "## Load package datasets\n",
    "\n",
    "Download and copy in your current folder:\n",
    " * [fish.snps.vcf.gz](https://github.com/pseudogene/aqupgp3-workshops/raw/master/fish.snps.vcf.gz) and [fish.pop.tsv](https://github.com/pseudogene/aqupgp3-workshops/raw/master/fish.pop.tsv).\n",
    " * [families.snps.vcf.gz](https://github.com/pseudogene/aqupgp3-workshops/raw/master/families.snps.vcf.gz) and [families.pop.tsv](https://github.com/pseudogene/aqupgp3-workshops/raw/master/families.pop.tsv).\n",
    " * [GBS.markers.tsv](https://github.com/pseudogene/aqupgp3-workshops/raw/master/GBS.markers.tsv) and [KASP.results.tsv](https://github.com/pseudogene/aqupgp3-workshops/raw/master/KASP.results.tsv)."
   ]
  },
  {
   "cell_type": "code",
   "execution_count": null,
   "metadata": {},
   "outputs": [],
   "source": [
    "fish_data <- read.vcfR(\"fish.snps.vcf.gz\")\n",
    "fish_pop <- read.delim(\"fish.pop.tsv\", header=TRUE,  sep=\"\\t\")"
   ]
  }
 ],
 "metadata": {
  "kernelspec": {
   "display_name": "R",
   "language": "R",
   "name": "ir"
  },
  "language_info": {
   "codemirror_mode": "r",
   "file_extension": ".r",
   "mimetype": "text/x-r-source",
   "name": "R",
   "pygments_lexer": "r",
   "version": "4.2.0"
  }
 },
 "nbformat": 4,
 "nbformat_minor": 4
}
