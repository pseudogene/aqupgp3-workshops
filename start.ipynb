{
 "cells": [
  {
   "cell_type": "markdown",
   "metadata": {},
   "source": [
    "# Workshop"
   ]
  },
  {
   "cell_type": "markdown",
   "metadata": {},
   "source": [
    "## Introduction\n",
    "\n",
    "This workshop focuses on large SNP data sets such as those obtained from genotyping-by-sequencing (GBS) for population genetic analysis in R. GBS is one of several techniques used to genotype populations using high throughput sequencing (HTS). In GBS, the genome is reduced in representation by using restriction enzymes, and then sequencing these products using HTS.\n",
    "\n",
    "We will use a data set of samples of the Lumpfish  (_Cyclopterus lumpus_). They are found in the cold waters of the Arctic, North Atlantic, and North Pacific oceans. There are used as cleaner fish by the Salmon farming industry.\n",
    "\n",
    "Samples were sequenced using the Illumina HiSeq 2500 technology with 150 bp paired-end reads and a target insert size of 600 bp. Currently, there is little information about the population structure of _C. lumpus_.\n",
    "\n",
    "To obtain variant calls in form of VCF data, the FASTQ reads from HTS were mapped to the reference genome of _C. lumpus_ using bowtie2 (Langmead & Salzberg, 2012). Variants were called using the GATK HaplotypeCaller (McKenna et al., 2010). Data was filtered as follows:\n",
    "\n",
    " * A minimum read-depth of 5x.\n",
    " * Only variants with a QC greater than 20 were retained.\n",
    " * Variants with more than 30% missing data were removed.\n",
    "\n",
    "In addition to the VCF data, I have included the file `fish.pop.tsv`, a tab-delimited text file that includes the name of the sample, country of origin, and the population from where it was sampled. The file is available for download at: [fish.pop.tsv](https://github.com/pseudogene/aqupgp3-workshops/raw/master/fish.pop.tsv). This link will likely open the data in a browser. Save the data onto your computer as an ASCII text file with the same name."
   ]
  },
  {
   "cell_type": "markdown",
   "metadata": {},
   "source": [
    "## Load package library\n",
    "\n",
    "Let's first load the libraries needed for analysis:"
   ]
  },
  {
   "cell_type": "code",
   "execution_count": null,
   "metadata": {},
   "outputs": [],
   "source": [
    "library(vcfR)\n",
    "library(ape)\n",
    "library(adegenet)\n",
    "library(SNPassoc)\n",
    "library(poppr)\n",
    "library(RColorBrewer)\n",
    "library(tidyr)\n",
    "library(ggplot2)\n",
    "library(C50)\n",
    "library(caret)\n",
    "\n",
    "options(repr.plot.width=16, repr.plot.height=8)"
   ]
  }
 ],
 "metadata": {
  "kernelspec": {
   "display_name": "R",
   "language": "R",
   "name": "ir"
  },
  "language_info": {
   "codemirror_mode": "r",
   "file_extension": ".r",
   "mimetype": "text/x-r-source",
   "name": "R",
   "pygments_lexer": "r",
   "version": "4.0.3"
  }
 },
 "nbformat": 4,
 "nbformat_minor": 4
}
